{
 "cells": [
  {
   "cell_type": "markdown",
   "id": "4af7a2e9",
   "metadata": {},
   "source": [
    "# Assignment-2"
   ]
  },
  {
   "cell_type": "raw",
   "id": "2a66764b",
   "metadata": {},
   "source": [
    "Q1. How do you comment code in Python? What are the different types of comments?"
   ]
  },
  {
   "cell_type": "raw",
   "id": "44f022ca",
   "metadata": {},
   "source": [
    "Comments in Python are the lines in the code that are ignored by the interpreter during the execution of the program. Comments enhance the readability of the code and help the programmers to understand the code very carefully. \n",
    "\n",
    "There are three types of comments in Python:\n",
    "\n",
    "Single line Comments ==== #\n",
    "Multiline Comments   ==== ''' '''  or \"\"\" \"\"\" \n",
    "Docstring Comments   ====  \"\"\" \"\"\"(in a Function)"
   ]
  },
  {
   "cell_type": "markdown",
   "id": "a7d30bba",
   "metadata": {},
   "source": [
    "Single line Comments"
   ]
  },
  {
   "cell_type": "code",
   "execution_count": 1,
   "id": "ffbebc35",
   "metadata": {},
   "outputs": [
    {
     "name": "stdout",
     "output_type": "stream",
     "text": [
      "pwskills\n"
     ]
    }
   ],
   "source": [
    "# sample comment\n",
    "name = \"pwskills\"\n",
    "print(name)"
   ]
  },
  {
   "cell_type": "markdown",
   "id": "dbd3f1af",
   "metadata": {},
   "source": [
    "Multiline Comments"
   ]
  },
  {
   "cell_type": "code",
   "execution_count": 2,
   "id": "08a373c8",
   "metadata": {},
   "outputs": [
    {
     "data": {
      "text/plain": [
       "'This is sample of multiline comments Which is learn by sidanshu sir in the class and this is first comment '"
      ]
     },
     "execution_count": 2,
     "metadata": {},
     "output_type": "execute_result"
    }
   ],
   "source": [
    "'''\n",
    "This is sample of multiline comments \n",
    "Which is learn by sidanshu sir \n",
    "in the class and \n",
    "this is first comment \n",
    "'''\n",
    "m_comm =\"This is sample of multiline comments Which is learn by sidanshu sir in the class and this is first comment \"\n",
    "m_comm"
   ]
  },
  {
   "cell_type": "markdown",
   "id": "f7d276a2",
   "metadata": {},
   "source": [
    "Docstring Comments"
   ]
  },
  {
   "cell_type": "code",
   "execution_count": 3,
   "id": "c80dd00c",
   "metadata": {},
   "outputs": [],
   "source": [
    "def multiply(a, b):\n",
    "    \"\"\"Multiplies the value of a and b\"\"\"\n",
    "    return a*b\n",
    "## prass tab + shift "
   ]
  },
  {
   "cell_type": "code",
   "execution_count": 4,
   "id": "02201195",
   "metadata": {},
   "outputs": [
    {
     "data": {
      "text/plain": [
       "60"
      ]
     },
     "execution_count": 4,
     "metadata": {},
     "output_type": "execute_result"
    }
   ],
   "source": [
    "multiply(12,5)"
   ]
  },
  {
   "cell_type": "raw",
   "id": "b6e4859b",
   "metadata": {},
   "source": [
    "Q2. What are variables in Python? How do you declare and assign values to variables?"
   ]
  },
  {
   "cell_type": "raw",
   "id": "661ea18f",
   "metadata": {},
   "source": [
    "A Python variable is a reserved memory location to store values. In other words, a variable in a python program gives data to the computer for processing. \n",
    "\n",
    "Variables are containers for storing data values.\n",
    "\n",
    "Variables can be declared by any name or even alphabets like a, aa, abc, etc "
   ]
  },
  {
   "cell_type": "code",
   "execution_count": 5,
   "id": "599324ee",
   "metadata": {},
   "outputs": [
    {
     "name": "stdout",
     "output_type": "stream",
     "text": [
      "100\n"
     ]
    }
   ],
   "source": [
    "\"\"\"\n",
    "a is variable\n",
    "100 is value\n",
    "= is assignment operator \n",
    "\"\"\"\n",
    "a=100\n",
    "print(a)\n"
   ]
  },
  {
   "cell_type": "code",
   "execution_count": 6,
   "id": "7fc44143",
   "metadata": {},
   "outputs": [
    {
     "data": {
      "text/plain": [
       "'Pwskills'"
      ]
     },
     "execution_count": 6,
     "metadata": {},
     "output_type": "execute_result"
    }
   ],
   "source": [
    "_name=\"Pwskills\"\n",
    "_name"
   ]
  },
  {
   "cell_type": "code",
   "execution_count": 7,
   "id": "1ca774d3",
   "metadata": {},
   "outputs": [
    {
     "name": "stdout",
     "output_type": "stream",
     "text": [
      "[1, 2, 3, 4, 5]\n"
     ]
    },
    {
     "data": {
      "text/plain": [
       "list"
      ]
     },
     "execution_count": 7,
     "metadata": {},
     "output_type": "execute_result"
    }
   ],
   "source": [
    "l1=[1,2,3,4,5]\n",
    "print(l1)\n",
    "type(l1)"
   ]
  },
  {
   "cell_type": "raw",
   "id": "e1d10b2a",
   "metadata": {},
   "source": [
    "Q3. How do you convert one data type to another in Python?"
   ]
  },
  {
   "cell_type": "code",
   "execution_count": 8,
   "id": "568f02cb",
   "metadata": {},
   "outputs": [
    {
     "name": "stdout",
     "output_type": "stream",
     "text": [
      "15\n"
     ]
    },
    {
     "data": {
      "text/plain": [
       "int"
      ]
     },
     "execution_count": 8,
     "metadata": {},
     "output_type": "execute_result"
    }
   ],
   "source": [
    "int_data=15\n",
    "print(int_data)\n",
    "type(int_data)"
   ]
  },
  {
   "cell_type": "code",
   "execution_count": 9,
   "id": "cf16bb7e",
   "metadata": {},
   "outputs": [],
   "source": [
    "float_data=float(int_data)"
   ]
  },
  {
   "cell_type": "code",
   "execution_count": 10,
   "id": "99f8fe91",
   "metadata": {},
   "outputs": [
    {
     "data": {
      "text/plain": [
       "15.0"
      ]
     },
     "execution_count": 10,
     "metadata": {},
     "output_type": "execute_result"
    }
   ],
   "source": [
    "float_data"
   ]
  },
  {
   "cell_type": "code",
   "execution_count": 11,
   "id": "615326b6",
   "metadata": {},
   "outputs": [
    {
     "data": {
      "text/plain": [
       "float"
      ]
     },
     "execution_count": 11,
     "metadata": {},
     "output_type": "execute_result"
    }
   ],
   "source": [
    "type(float_data)"
   ]
  },
  {
   "cell_type": "code",
   "execution_count": 12,
   "id": "6f9182d7",
   "metadata": {
    "scrolled": true
   },
   "outputs": [
    {
     "data": {
      "text/plain": [
       "str"
      ]
     },
     "execution_count": 12,
     "metadata": {},
     "output_type": "execute_result"
    }
   ],
   "source": [
    "string_data=str(float_data)\n",
    "type(string_data)"
   ]
  },
  {
   "cell_type": "code",
   "execution_count": 13,
   "id": "0a0863c6",
   "metadata": {},
   "outputs": [
    {
     "name": "stdout",
     "output_type": "stream",
     "text": [
      "this is String data  15.0\n"
     ]
    }
   ],
   "source": [
    "print(\"this is String data \",string_data)"
   ]
  },
  {
   "cell_type": "code",
   "execution_count": 14,
   "id": "30cf0d8a",
   "metadata": {},
   "outputs": [
    {
     "data": {
      "text/plain": [
       "float"
      ]
     },
     "execution_count": 14,
     "metadata": {},
     "output_type": "execute_result"
    }
   ],
   "source": [
    "flo_data=12.5\n",
    "type(flo_data)"
   ]
  },
  {
   "cell_type": "code",
   "execution_count": 15,
   "id": "455e4605",
   "metadata": {},
   "outputs": [
    {
     "name": "stdout",
     "output_type": "stream",
     "text": [
      "12\n"
     ]
    }
   ],
   "source": [
    "int_data=int(flo_data)\n",
    "print(int_data)"
   ]
  },
  {
   "cell_type": "code",
   "execution_count": 16,
   "id": "469e6d3f",
   "metadata": {},
   "outputs": [
    {
     "data": {
      "text/plain": [
       "int"
      ]
     },
     "execution_count": 16,
     "metadata": {},
     "output_type": "execute_result"
    }
   ],
   "source": [
    "type(int_data)"
   ]
  },
  {
   "cell_type": "code",
   "execution_count": 17,
   "id": "808a4350",
   "metadata": {},
   "outputs": [
    {
     "data": {
      "text/plain": [
       "list"
      ]
     },
     "execution_count": 17,
     "metadata": {},
     "output_type": "execute_result"
    }
   ],
   "source": [
    "list1=[1,2,3,4,5]\n",
    "type(list1)"
   ]
  },
  {
   "cell_type": "code",
   "execution_count": 18,
   "id": "8cef4822",
   "metadata": {},
   "outputs": [
    {
     "data": {
      "text/plain": [
       "(1, 2, 3, 4, 5)"
      ]
     },
     "execution_count": 18,
     "metadata": {},
     "output_type": "execute_result"
    }
   ],
   "source": [
    "t=tuple(list1)\n",
    "t"
   ]
  },
  {
   "cell_type": "code",
   "execution_count": 19,
   "id": "3ad6a5c6",
   "metadata": {},
   "outputs": [
    {
     "data": {
      "text/plain": [
       "tuple"
      ]
     },
     "execution_count": 19,
     "metadata": {},
     "output_type": "execute_result"
    }
   ],
   "source": [
    "type(t)"
   ]
  },
  {
   "cell_type": "code",
   "execution_count": 20,
   "id": "ad8808a7",
   "metadata": {},
   "outputs": [],
   "source": [
    "s=set(list1)"
   ]
  },
  {
   "cell_type": "code",
   "execution_count": 21,
   "id": "3dd7a1cf",
   "metadata": {},
   "outputs": [
    {
     "data": {
      "text/plain": [
       "set"
      ]
     },
     "execution_count": 21,
     "metadata": {},
     "output_type": "execute_result"
    }
   ],
   "source": [
    "type(s)"
   ]
  },
  {
   "cell_type": "code",
   "execution_count": 22,
   "id": "33908a8a",
   "metadata": {},
   "outputs": [],
   "source": [
    "st1=\"Pwskills\""
   ]
  },
  {
   "cell_type": "code",
   "execution_count": 23,
   "id": "4f35d6e5",
   "metadata": {},
   "outputs": [
    {
     "data": {
      "text/plain": [
       "['P', 'w', 's', 'k', 'i', 'l', 'l', 's']"
      ]
     },
     "execution_count": 23,
     "metadata": {},
     "output_type": "execute_result"
    }
   ],
   "source": [
    "list(st1)"
   ]
  },
  {
   "cell_type": "raw",
   "id": "6b24018c",
   "metadata": {},
   "source": [
    "Q4. How do you write and execute a Python script from the command line?"
   ]
  },
  {
   "cell_type": "raw",
   "id": "74471277",
   "metadata": {},
   "source": [
    "Write the script and save it as .py extension and then go to your command prompt and navigate to the file where thr script is located. Then run thr file with the command python run 'scriptname'"
   ]
  },
  {
   "cell_type": "raw",
   "id": "9d2b5f82",
   "metadata": {},
   "source": [
    "Q5. Given a list my_list = [1, 2, 3, 4, 5], write the code to slice the list and obtain the sub-list [2, 3]."
   ]
  },
  {
   "cell_type": "code",
   "execution_count": 24,
   "id": "a5eb4426",
   "metadata": {},
   "outputs": [],
   "source": [
    "my_list = [1,2,3,4,5]"
   ]
  },
  {
   "cell_type": "code",
   "execution_count": 25,
   "id": "2f1bf9e3",
   "metadata": {},
   "outputs": [
    {
     "data": {
      "text/plain": [
       "[2, 3]"
      ]
     },
     "execution_count": 25,
     "metadata": {},
     "output_type": "execute_result"
    }
   ],
   "source": [
    "my_list[1:3]"
   ]
  },
  {
   "cell_type": "code",
   "execution_count": 26,
   "id": "6cc61826",
   "metadata": {},
   "outputs": [],
   "source": [
    "sub_list=my_list[1:3]"
   ]
  },
  {
   "cell_type": "code",
   "execution_count": 27,
   "id": "385cf26b",
   "metadata": {},
   "outputs": [
    {
     "data": {
      "text/plain": [
       "[2, 3]"
      ]
     },
     "execution_count": 27,
     "metadata": {},
     "output_type": "execute_result"
    }
   ],
   "source": [
    "sub_list"
   ]
  },
  {
   "cell_type": "raw",
   "id": "c12bbf5b",
   "metadata": {},
   "source": [
    "Q6. What is a complex number in mathematics, and how is it represented in Python?"
   ]
  },
  {
   "cell_type": "markdown",
   "id": "1631ef38",
   "metadata": {},
   "source": [
    " It is written in the form of (x + yj) where x and y are real numbers and j is an imaginary number"
   ]
  },
  {
   "cell_type": "code",
   "execution_count": 28,
   "id": "c91b5659",
   "metadata": {},
   "outputs": [
    {
     "name": "stdout",
     "output_type": "stream",
     "text": [
      "Addition of two complex number = (9+21j)\n",
      "Subtraction of two complex number = (-3-9j)\n",
      "Multiplication of two complex number = (-72+81j)\n",
      "Division of two complex number = (0.4137931034482759-0.03448275862068964j)\n"
     ]
    }
   ],
   "source": [
    "#first complex number\n",
    "c1 = 3 + 6j\n",
    "#Second complex number\n",
    "c2 = 6 + 15j\n",
    "#Addition\n",
    "print(\"Addition of two complex number =\", c1 + c2)\n",
    "#Subtraction\n",
    "print(\"Subtraction of two complex number =\", c1 - c2)\n",
    "#Multiplication\n",
    "print(\"Multiplication of two complex number =\", c1 * c2)\n",
    "#Division\n",
    "print(\"Division of two complex number =\", c1 / c2)"
   ]
  },
  {
   "cell_type": "code",
   "execution_count": 29,
   "id": "dfccc046",
   "metadata": {},
   "outputs": [
    {
     "name": "stdout",
     "output_type": "stream",
     "text": [
      "<class 'complex'>\n",
      "(3+6j)\n"
     ]
    }
   ],
   "source": [
    "c = 3 +6j\n",
    "print(type(c))\n",
    "print(c)"
   ]
  },
  {
   "cell_type": "code",
   "execution_count": 30,
   "id": "ff5ed072",
   "metadata": {},
   "outputs": [
    {
     "data": {
      "text/plain": [
       "3.0"
      ]
     },
     "execution_count": 30,
     "metadata": {},
     "output_type": "execute_result"
    }
   ],
   "source": [
    "c.real"
   ]
  },
  {
   "cell_type": "code",
   "execution_count": 31,
   "id": "69c9dca3",
   "metadata": {},
   "outputs": [
    {
     "name": "stdout",
     "output_type": "stream",
     "text": [
      "<class 'complex'>\n",
      "(3+6j)\n"
     ]
    }
   ],
   "source": [
    "c1 = complex(3,6)\n",
    "print(type(c1))\n",
    "print(c1)"
   ]
  },
  {
   "cell_type": "code",
   "execution_count": 32,
   "id": "9a3c9071",
   "metadata": {},
   "outputs": [
    {
     "data": {
      "text/plain": [
       "6.0"
      ]
     },
     "execution_count": 32,
     "metadata": {},
     "output_type": "execute_result"
    }
   ],
   "source": [
    "c1.imag"
   ]
  },
  {
   "cell_type": "raw",
   "id": "06175990",
   "metadata": {},
   "source": [
    "Q7. What is the correct way to declare a variable named age and assign the value 25 to it?"
   ]
  },
  {
   "cell_type": "code",
   "execution_count": 33,
   "id": "611edfd7",
   "metadata": {},
   "outputs": [],
   "source": [
    "age = 25"
   ]
  },
  {
   "cell_type": "code",
   "execution_count": 34,
   "id": "d43ec1f7",
   "metadata": {},
   "outputs": [
    {
     "name": "stdout",
     "output_type": "stream",
     "text": [
      "<class 'int'> 25\n"
     ]
    }
   ],
   "source": [
    "print(type(age),age)"
   ]
  },
  {
   "cell_type": "raw",
   "id": "9e760f21",
   "metadata": {},
   "source": [
    "Q8. Declare a variable named price and assign the value 9.99 to it. What data type does this variable\n",
    "belong to?"
   ]
  },
  {
   "cell_type": "code",
   "execution_count": 35,
   "id": "a8efe666",
   "metadata": {},
   "outputs": [
    {
     "data": {
      "text/plain": [
       "9.99"
      ]
     },
     "execution_count": 35,
     "metadata": {},
     "output_type": "execute_result"
    }
   ],
   "source": [
    "price = 9.99\n",
    "price"
   ]
  },
  {
   "cell_type": "code",
   "execution_count": 36,
   "id": "22405843",
   "metadata": {},
   "outputs": [
    {
     "name": "stdout",
     "output_type": "stream",
     "text": [
      "<class 'float'> 9.99\n"
     ]
    }
   ],
   "source": [
    "print(type(price),price)"
   ]
  },
  {
   "cell_type": "raw",
   "id": "b9b29d12",
   "metadata": {},
   "source": [
    "Q9. Create a variable named name and assign your full name to it as a string. How would you print the\n",
    "value of this variable?"
   ]
  },
  {
   "cell_type": "code",
   "execution_count": 37,
   "id": "ef658d3c",
   "metadata": {},
   "outputs": [
    {
     "data": {
      "text/plain": [
       "'Lalit Goyal'"
      ]
     },
     "execution_count": 37,
     "metadata": {},
     "output_type": "execute_result"
    }
   ],
   "source": [
    "name = \"Lalit Goyal\"\n",
    "name"
   ]
  },
  {
   "cell_type": "code",
   "execution_count": 38,
   "id": "c38702d1",
   "metadata": {},
   "outputs": [
    {
     "name": "stdout",
     "output_type": "stream",
     "text": [
      "My Name is Lalit Goyal\n"
     ]
    }
   ],
   "source": [
    "print(\"My Name is\",name)"
   ]
  },
  {
   "cell_type": "code",
   "execution_count": 39,
   "id": "1fb4c729",
   "metadata": {},
   "outputs": [
    {
     "name": "stdout",
     "output_type": "stream",
     "text": [
      "My first name is Lalit and last name is Goyal\n"
     ]
    }
   ],
   "source": [
    "print(\"My first name is\",name[0:5],\"and last name is\",name[6:])"
   ]
  },
  {
   "cell_type": "raw",
   "id": "0e7edeea",
   "metadata": {},
   "source": [
    "Q10. Given the string \"Hello, World!\", extract the substring \"World\"."
   ]
  },
  {
   "cell_type": "code",
   "execution_count": 40,
   "id": "b5a054a4",
   "metadata": {},
   "outputs": [],
   "source": [
    "str_sub=\"Hello, World!\""
   ]
  },
  {
   "cell_type": "code",
   "execution_count": 41,
   "id": "af46bc38",
   "metadata": {},
   "outputs": [
    {
     "name": "stdout",
     "output_type": "stream",
     "text": [
      "Hello, World!\n"
     ]
    }
   ],
   "source": [
    "print(str_sub)"
   ]
  },
  {
   "cell_type": "code",
   "execution_count": 42,
   "id": "da8b6938",
   "metadata": {},
   "outputs": [
    {
     "data": {
      "text/plain": [
       "'World'"
      ]
     },
     "execution_count": 42,
     "metadata": {},
     "output_type": "execute_result"
    }
   ],
   "source": [
    "str_sub[7:-1]"
   ]
  },
  {
   "cell_type": "code",
   "execution_count": 43,
   "id": "2e7d7fc6",
   "metadata": {},
   "outputs": [
    {
     "data": {
      "text/plain": [
       "'World'"
      ]
     },
     "execution_count": 43,
     "metadata": {},
     "output_type": "execute_result"
    }
   ],
   "source": [
    "sub=str_sub[7:-1]\n",
    "sub"
   ]
  },
  {
   "cell_type": "raw",
   "id": "addf0376",
   "metadata": {},
   "source": [
    "Q11. Create a variable named \"is_student\" and assign it a boolean value indicating whether you are\n",
    "currently a student or not."
   ]
  },
  {
   "cell_type": "code",
   "execution_count": 44,
   "id": "179031fe",
   "metadata": {},
   "outputs": [
    {
     "name": "stdout",
     "output_type": "stream",
     "text": [
      "Am I currently a student? False\n"
     ]
    }
   ],
   "source": [
    "is_student = False\n",
    "\n",
    "print(\"Am I currently a student?\", is_student)"
   ]
  }
 ],
 "metadata": {
  "kernelspec": {
   "display_name": "Python 3 (ipykernel)",
   "language": "python",
   "name": "python3"
  },
  "language_info": {
   "codemirror_mode": {
    "name": "ipython",
    "version": 3
   },
   "file_extension": ".py",
   "mimetype": "text/x-python",
   "name": "python",
   "nbconvert_exporter": "python",
   "pygments_lexer": "ipython3",
   "version": "3.9.12"
  }
 },
 "nbformat": 4,
 "nbformat_minor": 5
}
