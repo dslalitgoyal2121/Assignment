{
 "cells": [
  {
   "cell_type": "markdown",
   "id": "ff2af3bb",
   "metadata": {},
   "source": [
    "# Assignment-5"
   ]
  },
  {
   "cell_type": "raw",
   "id": "40b6de7b",
   "metadata": {},
   "source": [
    "Q1, Create a vehicle class with an init method having instance variables as name_of_vehicle, max_speed\n",
    "and average_of_vehicle."
   ]
  },
  {
   "cell_type": "code",
   "execution_count": 1,
   "id": "2f0f3b87",
   "metadata": {},
   "outputs": [],
   "source": [
    "class vehicle:\n",
    "    def __init__(self,name_of_vehicle,max_speed,average_of_vehicle):\n",
    "        self.name_of_vehicle = name_of_vehicle\n",
    "        self.max_speed = max_speed\n",
    "        self.average_of_vehicle = average_of_vehicle\n",
    "    def return_variables(self):\n",
    "        return f\"Name of Vehicle : {self.name_of_vehicle}\",f\"Max Speed : {self.max_speed}\",f\"Average of Vehicle : {self.average_of_vehicle}\""
   ]
  },
  {
   "cell_type": "code",
   "execution_count": 2,
   "id": "3dbce8be",
   "metadata": {},
   "outputs": [],
   "source": [
    "bmw=vehicle(\"BMW\",220,45)"
   ]
  },
  {
   "cell_type": "code",
   "execution_count": 3,
   "id": "9d5a0c15",
   "metadata": {},
   "outputs": [
    {
     "data": {
      "text/plain": [
       "('Name of Vehicle : BMW', 'Max Speed : 220', 'Average of Vehicle : 45')"
      ]
     },
     "execution_count": 3,
     "metadata": {},
     "output_type": "execute_result"
    }
   ],
   "source": [
    "bmw.return_variables()"
   ]
  },
  {
   "cell_type": "code",
   "execution_count": 4,
   "id": "734090ff",
   "metadata": {},
   "outputs": [
    {
     "data": {
      "text/plain": [
       "'BMW'"
      ]
     },
     "execution_count": 4,
     "metadata": {},
     "output_type": "execute_result"
    }
   ],
   "source": [
    "bmw.name_of_vehicle"
   ]
  },
  {
   "cell_type": "code",
   "execution_count": 5,
   "id": "41d56c33",
   "metadata": {},
   "outputs": [
    {
     "data": {
      "text/plain": [
       "220"
      ]
     },
     "execution_count": 5,
     "metadata": {},
     "output_type": "execute_result"
    }
   ],
   "source": [
    "bmw.max_speed"
   ]
  },
  {
   "cell_type": "code",
   "execution_count": 6,
   "id": "6004e9d4",
   "metadata": {},
   "outputs": [
    {
     "data": {
      "text/plain": [
       "45"
      ]
     },
     "execution_count": 6,
     "metadata": {},
     "output_type": "execute_result"
    }
   ],
   "source": [
    "bmw.average_of_vehicle"
   ]
  },
  {
   "cell_type": "raw",
   "id": "b4954675",
   "metadata": {},
   "source": [
    "Q2. Create a child class car from the vehicle class created in Que 1, which will inherit the vehicle class. Create a method named seating_capacity which takes capacity as an argument and returns the name of the vehicle and its seating capacity."
   ]
  },
  {
   "cell_type": "code",
   "execution_count": 7,
   "id": "90bd6a78",
   "metadata": {},
   "outputs": [],
   "source": [
    "class car(vehicle):\n",
    "    def seating_capacity(self,capacity):\n",
    "        self.capacity = capacity\n",
    "    def return_variables(self):\n",
    "        return self.name_of_vehicle,self.capacity\n",
    "    "
   ]
  },
  {
   "cell_type": "code",
   "execution_count": 8,
   "id": "effc2425",
   "metadata": {},
   "outputs": [],
   "source": [
    "car1=car(\"volvo\",220,30)"
   ]
  },
  {
   "cell_type": "code",
   "execution_count": 9,
   "id": "137f5ca7",
   "metadata": {
    "scrolled": true
   },
   "outputs": [],
   "source": [
    "car1.seating_capacity(4)"
   ]
  },
  {
   "cell_type": "code",
   "execution_count": 10,
   "id": "c4d65088",
   "metadata": {},
   "outputs": [
    {
     "data": {
      "text/plain": [
       "'volvo'"
      ]
     },
     "execution_count": 10,
     "metadata": {},
     "output_type": "execute_result"
    }
   ],
   "source": [
    "car1.name_of_vehicle"
   ]
  },
  {
   "cell_type": "code",
   "execution_count": 11,
   "id": "c47f11f9",
   "metadata": {},
   "outputs": [
    {
     "data": {
      "text/plain": [
       "('volvo', 4)"
      ]
     },
     "execution_count": 11,
     "metadata": {},
     "output_type": "execute_result"
    }
   ],
   "source": [
    "car1.return_variables()"
   ]
  },
  {
   "cell_type": "markdown",
   "id": "a2187138",
   "metadata": {},
   "source": [
    "Q3. What is multiple inheritance? Write a python code to demonstrate multiple inheritance."
   ]
  },
  {
   "cell_type": "raw",
   "id": "b289ae0e",
   "metadata": {},
   "source": [
    "When a class is derived from more than one base class it is called multiple Inheritance. The derived class inherits all the features of the base case"
   ]
  },
  {
   "cell_type": "code",
   "execution_count": 12,
   "id": "31a9f5ea",
   "metadata": {},
   "outputs": [],
   "source": [
    "class father:\n",
    "    def father_class(self):\n",
    "        return  \"This is a father class\""
   ]
  },
  {
   "cell_type": "code",
   "execution_count": 13,
   "id": "8e3df1b8",
   "metadata": {},
   "outputs": [],
   "source": [
    "class mother:\n",
    "    def mother_class(self):\n",
    "        return \"This is a muther class\""
   ]
  },
  {
   "cell_type": "code",
   "execution_count": 14,
   "id": "50bc82c6",
   "metadata": {},
   "outputs": [],
   "source": [
    "class child(father,mother):\n",
    "    pass"
   ]
  },
  {
   "cell_type": "code",
   "execution_count": 15,
   "id": "f2856288",
   "metadata": {},
   "outputs": [],
   "source": [
    "child=child()"
   ]
  },
  {
   "cell_type": "code",
   "execution_count": 16,
   "id": "06641cc7",
   "metadata": {},
   "outputs": [
    {
     "data": {
      "text/plain": [
       "'This is a father class'"
      ]
     },
     "execution_count": 16,
     "metadata": {},
     "output_type": "execute_result"
    }
   ],
   "source": [
    "child.father_class()"
   ]
  },
  {
   "cell_type": "code",
   "execution_count": 17,
   "id": "ae587d34",
   "metadata": {},
   "outputs": [
    {
     "data": {
      "text/plain": [
       "'This is a muther class'"
      ]
     },
     "execution_count": 17,
     "metadata": {},
     "output_type": "execute_result"
    }
   ],
   "source": [
    "child.mother_class()"
   ]
  },
  {
   "cell_type": "markdown",
   "id": "7394bc56",
   "metadata": {},
   "source": [
    "Q4. What are getter and setter in python? Create a class and create a getter and a setter method in this\n",
    "class."
   ]
  },
  {
   "cell_type": "raw",
   "id": "2f409d11",
   "metadata": {},
   "source": [
    "Getter: A method that allows you to access an attribute in a given class. Setter: A method that allows you to set or mutate the value of an attribute in a class"
   ]
  },
  {
   "cell_type": "code",
   "execution_count": 18,
   "id": "2f3de61c",
   "metadata": {},
   "outputs": [],
   "source": [
    "class bank_account:\n",
    "    def __init__(self,balance):\n",
    "        self.__balance=balance\n",
    "        \n",
    "    def deposit(self, amount):\n",
    "        self.__balance=self.__balance + amount\n",
    "        \n",
    "    def withdraw(self, amount):\n",
    "        if self.__balance >= amount:\n",
    "            self.__balance=self.__balance - amount\n",
    "            return True\n",
    "        else:\n",
    "            return False\n",
    "    def get_balance(self):\n",
    "        return self.__balance"
   ]
  },
  {
   "cell_type": "code",
   "execution_count": 19,
   "id": "3955f99b",
   "metadata": {},
   "outputs": [],
   "source": [
    "lalit=bank_account(5000)"
   ]
  },
  {
   "cell_type": "code",
   "execution_count": 20,
   "id": "0a6480ab",
   "metadata": {},
   "outputs": [],
   "source": [
    "lalit.deposit(3000)"
   ]
  },
  {
   "cell_type": "code",
   "execution_count": 21,
   "id": "e4e3ce2c",
   "metadata": {},
   "outputs": [
    {
     "data": {
      "text/plain": [
       "8000"
      ]
     },
     "execution_count": 21,
     "metadata": {},
     "output_type": "execute_result"
    }
   ],
   "source": [
    "lalit.get_balance()"
   ]
  },
  {
   "cell_type": "code",
   "execution_count": 22,
   "id": "04beeffa",
   "metadata": {},
   "outputs": [
    {
     "data": {
      "text/plain": [
       "False"
      ]
     },
     "execution_count": 22,
     "metadata": {},
     "output_type": "execute_result"
    }
   ],
   "source": [
    "lalit.withdraw(10000)"
   ]
  },
  {
   "cell_type": "code",
   "execution_count": 23,
   "id": "11ac4bb1",
   "metadata": {},
   "outputs": [
    {
     "data": {
      "text/plain": [
       "True"
      ]
     },
     "execution_count": 23,
     "metadata": {},
     "output_type": "execute_result"
    }
   ],
   "source": [
    "lalit.withdraw(6000)"
   ]
  },
  {
   "cell_type": "code",
   "execution_count": 24,
   "id": "7d647080",
   "metadata": {},
   "outputs": [
    {
     "data": {
      "text/plain": [
       "2000"
      ]
     },
     "execution_count": 24,
     "metadata": {},
     "output_type": "execute_result"
    }
   ],
   "source": [
    "lalit.get_balance()"
   ]
  },
  {
   "cell_type": "markdown",
   "id": "8333ebcb",
   "metadata": {},
   "source": [
    "Q5.What is method overriding in python? Write a python code to demonstrate method overriding."
   ]
  },
  {
   "cell_type": "raw",
   "id": "a9d0d88a",
   "metadata": {},
   "source": [
    "Method overriding is a feature of object-oriented programming languages where the subclass or child class can provide the program with specific characteristics or a specific implementation process of data provided that are already defined in the parent class or superclass"
   ]
  },
  {
   "cell_type": "code",
   "execution_count": 25,
   "id": "62c6d854",
   "metadata": {},
   "outputs": [
    {
     "name": "stdout",
     "output_type": "stream",
     "text": [
      "Inside Parent\n",
      "Inside Child\n"
     ]
    }
   ],
   "source": [
    "class Parent():\n",
    "    def show(self):\n",
    "        print(\"Inside Parent\")\n",
    "          \n",
    "class Child(Parent):\n",
    "    def show(self):\n",
    "        Parent.show(self)\n",
    "        print(\"Inside Child\")\n",
    "          \n",
    "obj = Child()\n",
    "obj.show()"
   ]
  }
 ],
 "metadata": {
  "kernelspec": {
   "display_name": "Python 3 (ipykernel)",
   "language": "python",
   "name": "python3"
  },
  "language_info": {
   "codemirror_mode": {
    "name": "ipython",
    "version": 3
   },
   "file_extension": ".py",
   "mimetype": "text/x-python",
   "name": "python",
   "nbconvert_exporter": "python",
   "pygments_lexer": "ipython3",
   "version": "3.9.12"
  }
 },
 "nbformat": 4,
 "nbformat_minor": 5
}
