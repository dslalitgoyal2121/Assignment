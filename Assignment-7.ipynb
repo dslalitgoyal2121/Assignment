{
 "cells": [
  {
   "cell_type": "markdown",
   "id": "3a81878f",
   "metadata": {},
   "source": [
    "# Assignment-7"
   ]
  },
  {
   "cell_type": "raw",
   "id": "05f0e7b7",
   "metadata": {},
   "source": [
    "Q1. What is Abstraction in OOps? Explain with an example."
   ]
  },
  {
   "cell_type": "raw",
   "id": "15046c00",
   "metadata": {},
   "source": [
    "Abstraction in python is defined as a process of handling complexity by hiding unnecessary information from the user. This is one of the core concepts of object-oriented programming (OOP) languages."
   ]
  },
  {
   "cell_type": "code",
   "execution_count": 1,
   "id": "de97e7a3",
   "metadata": {},
   "outputs": [
    {
     "data": {
      "text/plain": [
       "'this will give you a student assignment details for data science masters'"
      ]
     },
     "execution_count": 1,
     "metadata": {},
     "output_type": "execute_result"
    }
   ],
   "source": [
    "import abc\n",
    "class pwskills:\n",
    "    \n",
    "    abc.abstractmethod\n",
    "    def student_detials(self):\n",
    "        pass\n",
    "    \n",
    "    abc.abstractmethod\n",
    "    def student_assignemnt(self):\n",
    "        pass\n",
    "    \n",
    "    abc.abstractmethod\n",
    "    def student_marks(self):\n",
    "        pass\n",
    "    \n",
    "class student_detils(pwskills):\n",
    "    def student_detials(self):\n",
    "        return \"this is a meth of taking students detials\"\n",
    "    def student_assignemnt(self):\n",
    "        return \"this is a met for assing details for a pertiualt student\"\n",
    "    \n",
    "class date_science(pwskills):\n",
    "    def student_detials(self):\n",
    "        return \"this will return a student detail for data science masters\"\n",
    "    def student_assignemnt(self):\n",
    "        return \"this will give you a student assignment details for data science masters\"\n",
    "    \n",
    "dsm=date_science()\n",
    "dsm.student_detials()\n",
    "dsm.student_assignemnt()\n"
   ]
  },
  {
   "cell_type": "raw",
   "id": "15e79767",
   "metadata": {},
   "source": [
    "Q2. Differentiate between Abstraction and Encapsulation. Explain with an example."
   ]
  },
  {
   "cell_type": "raw",
   "id": "3522ec0b",
   "metadata": {},
   "source": [
    "Abstraction is a process of hiding the implementation details of a system from the user, and only the functional details will be available to the user end.\n",
    "Encapsulation is a method of wrapping up the data and code acting on the data into a single unit."
   ]
  },
  {
   "cell_type": "code",
   "execution_count": 2,
   "id": "be7b3cf8",
   "metadata": {},
   "outputs": [],
   "source": [
    "import abc\n",
    "class school:\n",
    "    \n",
    "    abc.abstractmethod\n",
    "    def Set_Student_detials(self):\n",
    "        pass\n",
    "        \n",
    "    abc.abstractmethod\n",
    "    def Get_Student_detials(self):\n",
    "        pass\n",
    "    \n",
    "class DAV_School(school):\n",
    "    \n",
    "    def Set_Student_Detials(self,student_id, student_name, student_fee):\n",
    "        self.__student_id = student_id\n",
    "        self.__student_name =student_name\n",
    "        self.__student_fee = student_fee\n",
    "        \n",
    "    def Get_Student_detials(self):\n",
    "        return self.__student_id,self.__student_name,self.__student_fee"
   ]
  },
  {
   "cell_type": "code",
   "execution_count": 3,
   "id": "00c90fe7",
   "metadata": {},
   "outputs": [],
   "source": [
    "dav=DAV_School()"
   ]
  },
  {
   "cell_type": "code",
   "execution_count": 4,
   "id": "b14a7c4a",
   "metadata": {},
   "outputs": [],
   "source": [
    "dav.Set_Student_Detials(\"s01\",\"lalit\",7500)"
   ]
  },
  {
   "cell_type": "code",
   "execution_count": 5,
   "id": "0c60d2f1",
   "metadata": {},
   "outputs": [
    {
     "data": {
      "text/plain": [
       "('s01', 'lalit', 7500)"
      ]
     },
     "execution_count": 5,
     "metadata": {},
     "output_type": "execute_result"
    }
   ],
   "source": [
    "dav.Get_Student_detials()"
   ]
  },
  {
   "cell_type": "raw",
   "id": "3c6e91db",
   "metadata": {},
   "source": [
    "Q3. What is abc module in python? Why is it used?"
   ]
  },
  {
   "cell_type": "raw",
   "id": "aaa125eb",
   "metadata": {},
   "source": [
    "The 'abc' module in Python library provides the infrastructure for defining custom abstract base classes. 'abc' works by marking methods of the base class as abstract. This is done by @absttractmethod decorator."
   ]
  },
  {
   "cell_type": "raw",
   "id": "eb6d2ec7",
   "metadata": {},
   "source": [
    "Q4. How can we achieve data abstraction?"
   ]
  },
  {
   "cell_type": "raw",
   "id": "a44f76b8",
   "metadata": {},
   "source": [
    "We can achieve data abstraction through Abstract classes and interfaces. Through abstract classes, you can achieve partial or complete abstraction as abstract classes contain methods that have an implementation which can result in partial abstraction."
   ]
  },
  {
   "cell_type": "raw",
   "id": "bae42d83",
   "metadata": {},
   "source": [
    "Q5. Can we create an instance of an abstract class? Explain your answer."
   ]
  },
  {
   "cell_type": "raw",
   "id": "590b1def",
   "metadata": {},
   "source": [
    "Abstract classes are not complete, as they may have some methods that are not defined. So we cannot create an instance or object of an abstract class in Python."
   ]
  },
  {
   "cell_type": "code",
   "execution_count": null,
   "id": "0fa13587",
   "metadata": {},
   "outputs": [],
   "source": []
  }
 ],
 "metadata": {
  "kernelspec": {
   "display_name": "Python 3 (ipykernel)",
   "language": "python",
   "name": "python3"
  },
  "language_info": {
   "codemirror_mode": {
    "name": "ipython",
    "version": 3
   },
   "file_extension": ".py",
   "mimetype": "text/x-python",
   "name": "python",
   "nbconvert_exporter": "python",
   "pygments_lexer": "ipython3",
   "version": "3.9.12"
  }
 },
 "nbformat": 4,
 "nbformat_minor": 5
}
