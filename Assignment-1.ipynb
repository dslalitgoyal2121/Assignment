{
 "cells": [
  {
   "cell_type": "markdown",
   "id": "6946a7a6",
   "metadata": {},
   "source": [
    "# Assignment"
   ]
  },
  {
   "cell_type": "raw",
   "id": "eb85116c",
   "metadata": {},
   "source": [
    "Q1. Create one variable containing following type of data:\n",
    "(i) string\n",
    "(ii) list\n",
    "(iii) float\n",
    "(iv) tuple"
   ]
  },
  {
   "cell_type": "markdown",
   "id": "898f2f98",
   "metadata": {},
   "source": [
    "String"
   ]
  },
  {
   "cell_type": "code",
   "execution_count": 1,
   "id": "d98476c9",
   "metadata": {},
   "outputs": [
    {
     "name": "stdout",
     "output_type": "stream",
     "text": [
      "Print The Data : My first assingnment\n"
     ]
    },
    {
     "data": {
      "text/plain": [
       "'My first assingnment'"
      ]
     },
     "execution_count": 1,
     "metadata": {},
     "output_type": "execute_result"
    }
   ],
   "source": [
    "# String -- \"\"   ''\n",
    "string=\"My first assingnment\"\n",
    "print(\"Print The Data :\",string)\n",
    "string"
   ]
  },
  {
   "cell_type": "code",
   "execution_count": 2,
   "id": "881cb877",
   "metadata": {},
   "outputs": [
    {
     "data": {
      "text/plain": [
       "str"
      ]
     },
     "execution_count": 2,
     "metadata": {},
     "output_type": "execute_result"
    }
   ],
   "source": [
    "type(string)"
   ]
  },
  {
   "cell_type": "code",
   "execution_count": 3,
   "id": "16bddd3e",
   "metadata": {},
   "outputs": [
    {
     "name": "stdout",
     "output_type": "stream",
     "text": [
      "Enter any variable : Lalit \n",
      "<class 'str'>\n",
      "Lalit \n"
     ]
    }
   ],
   "source": [
    "s2=str(input(\"Enter any variable : \"))\n",
    "print(type(s2))\n",
    "print(s2)"
   ]
  },
  {
   "cell_type": "markdown",
   "id": "fb953460",
   "metadata": {},
   "source": [
    "List"
   ]
  },
  {
   "cell_type": "code",
   "execution_count": 4,
   "id": "67f571fd",
   "metadata": {},
   "outputs": [
    {
     "data": {
      "text/plain": [
       "[]"
      ]
     },
     "execution_count": 4,
     "metadata": {},
     "output_type": "execute_result"
    }
   ],
   "source": [
    "list1=[]   # blanck list # list are oderad collection of items\n",
    "list1"
   ]
  },
  {
   "cell_type": "code",
   "execution_count": 5,
   "id": "b5d75f53",
   "metadata": {},
   "outputs": [
    {
     "data": {
      "text/plain": [
       "list"
      ]
     },
     "execution_count": 5,
     "metadata": {},
     "output_type": "execute_result"
    }
   ],
   "source": [
    "type(list1)"
   ]
  },
  {
   "cell_type": "code",
   "execution_count": 6,
   "id": "995f0ffe",
   "metadata": {},
   "outputs": [
    {
     "data": {
      "text/plain": [
       "0"
      ]
     },
     "execution_count": 6,
     "metadata": {},
     "output_type": "execute_result"
    }
   ],
   "source": [
    "len(list1)"
   ]
  },
  {
   "cell_type": "code",
   "execution_count": 7,
   "id": "25748750",
   "metadata": {},
   "outputs": [
    {
     "data": {
      "text/plain": [
       "['Mobile', 'Laptop', 89, 47, 75.13, 21.5, 'A', True]"
      ]
     },
     "execution_count": 7,
     "metadata": {},
     "output_type": "execute_result"
    }
   ],
   "source": [
    "list2=[\"Mobile\",\"Laptop\",89,47,75.13,21.5,\"A\",True]\n",
    "list2"
   ]
  },
  {
   "cell_type": "code",
   "execution_count": 8,
   "id": "e32b20ba",
   "metadata": {},
   "outputs": [
    {
     "data": {
      "text/plain": [
       "list"
      ]
     },
     "execution_count": 8,
     "metadata": {},
     "output_type": "execute_result"
    }
   ],
   "source": [
    "type(list2)"
   ]
  },
  {
   "cell_type": "code",
   "execution_count": 9,
   "id": "4234da39",
   "metadata": {},
   "outputs": [
    {
     "data": {
      "text/plain": [
       "8"
      ]
     },
     "execution_count": 9,
     "metadata": {},
     "output_type": "execute_result"
    }
   ],
   "source": [
    "len(list2)"
   ]
  },
  {
   "cell_type": "code",
   "execution_count": 10,
   "id": "d1510472",
   "metadata": {},
   "outputs": [
    {
     "data": {
      "text/plain": [
       "[1, 2, 3, 4, 5]"
      ]
     },
     "execution_count": 10,
     "metadata": {},
     "output_type": "execute_result"
    }
   ],
   "source": [
    "list3=[1,2,3,4,5]  #indexing list # mutable\n",
    "list3"
   ]
  },
  {
   "cell_type": "code",
   "execution_count": 11,
   "id": "28fca08b",
   "metadata": {},
   "outputs": [
    {
     "data": {
      "text/plain": [
       "list"
      ]
     },
     "execution_count": 11,
     "metadata": {},
     "output_type": "execute_result"
    }
   ],
   "source": [
    "type(list3)"
   ]
  },
  {
   "cell_type": "code",
   "execution_count": 12,
   "id": "7c615813",
   "metadata": {},
   "outputs": [
    {
     "data": {
      "text/plain": [
       "5"
      ]
     },
     "execution_count": 12,
     "metadata": {},
     "output_type": "execute_result"
    }
   ],
   "source": [
    "len(list3)"
   ]
  },
  {
   "cell_type": "code",
   "execution_count": 13,
   "id": "e7728d2b",
   "metadata": {},
   "outputs": [
    {
     "data": {
      "text/plain": [
       "[45.2, 55.5, 48.5, 65.3, 57.5]"
      ]
     },
     "execution_count": 13,
     "metadata": {},
     "output_type": "execute_result"
    }
   ],
   "source": [
    "list4=[45.2,55.5,48.5,65.3,57.5]\n",
    "list4"
   ]
  },
  {
   "cell_type": "code",
   "execution_count": 14,
   "id": "0916cdf9",
   "metadata": {},
   "outputs": [
    {
     "data": {
      "text/plain": [
       "list"
      ]
     },
     "execution_count": 14,
     "metadata": {},
     "output_type": "execute_result"
    }
   ],
   "source": [
    "type(list4)"
   ]
  },
  {
   "cell_type": "code",
   "execution_count": 15,
   "id": "809655ee",
   "metadata": {},
   "outputs": [
    {
     "data": {
      "text/plain": [
       "5"
      ]
     },
     "execution_count": 15,
     "metadata": {},
     "output_type": "execute_result"
    }
   ],
   "source": [
    "len(list4)"
   ]
  },
  {
   "cell_type": "code",
   "execution_count": 16,
   "id": "f03469b3",
   "metadata": {},
   "outputs": [
    {
     "data": {
      "text/plain": [
       "['A', 'B', 'C', 'D']"
      ]
     },
     "execution_count": 16,
     "metadata": {},
     "output_type": "execute_result"
    }
   ],
   "source": [
    "list5=[\"A\",\"B\",\"C\",\"D\"]\n",
    "list5"
   ]
  },
  {
   "cell_type": "code",
   "execution_count": 17,
   "id": "0f1e259e",
   "metadata": {},
   "outputs": [
    {
     "data": {
      "text/plain": [
       "list"
      ]
     },
     "execution_count": 17,
     "metadata": {},
     "output_type": "execute_result"
    }
   ],
   "source": [
    "type(list5)"
   ]
  },
  {
   "cell_type": "code",
   "execution_count": 18,
   "id": "2c21f702",
   "metadata": {},
   "outputs": [
    {
     "data": {
      "text/plain": [
       "4"
      ]
     },
     "execution_count": 18,
     "metadata": {},
     "output_type": "execute_result"
    }
   ],
   "source": [
    "len(list5)"
   ]
  },
  {
   "cell_type": "markdown",
   "id": "54ee40b6",
   "metadata": {},
   "source": [
    "Float"
   ]
  },
  {
   "cell_type": "code",
   "execution_count": 19,
   "id": "b8311fbf",
   "metadata": {},
   "outputs": [
    {
     "data": {
      "text/plain": [
       "14.5"
      ]
     },
     "execution_count": 19,
     "metadata": {},
     "output_type": "execute_result"
    }
   ],
   "source": [
    "# Float is represent decimal number\n",
    "f1=14.50\n",
    "f1"
   ]
  },
  {
   "cell_type": "code",
   "execution_count": 20,
   "id": "094726e8",
   "metadata": {},
   "outputs": [
    {
     "name": "stdout",
     "output_type": "stream",
     "text": [
      "Print float Number 14.5\n"
     ]
    }
   ],
   "source": [
    "print(\"Print float Number\",f1)"
   ]
  },
  {
   "cell_type": "code",
   "execution_count": 21,
   "id": "4a7fd268",
   "metadata": {},
   "outputs": [
    {
     "data": {
      "text/plain": [
       "float"
      ]
     },
     "execution_count": 21,
     "metadata": {},
     "output_type": "execute_result"
    }
   ],
   "source": [
    "type(f1)"
   ]
  },
  {
   "cell_type": "code",
   "execution_count": 22,
   "id": "f303a663",
   "metadata": {},
   "outputs": [
    {
     "name": "stdout",
     "output_type": "stream",
     "text": [
      "Enter any Number : 12.65\n",
      "<class 'float'>\n",
      "12.65\n"
     ]
    }
   ],
   "source": [
    "f2=float(input(\"Enter any Number : \"))\n",
    "print(type(f2))\n",
    "print(f2)"
   ]
  },
  {
   "cell_type": "markdown",
   "id": "94787c52",
   "metadata": {},
   "source": [
    "Tuple"
   ]
  },
  {
   "cell_type": "code",
   "execution_count": 23,
   "id": "0a492c9a",
   "metadata": {},
   "outputs": [
    {
     "data": {
      "text/plain": [
       "(45, 25, 12, 9, 5, 36, 42)"
      ]
     },
     "execution_count": 23,
     "metadata": {},
     "output_type": "execute_result"
    }
   ],
   "source": [
    "# tuple is represnt with () \n",
    "tuple1=(45,25,12,9,5,36,42)\n",
    "tuple1"
   ]
  },
  {
   "cell_type": "code",
   "execution_count": 24,
   "id": "57af7c16",
   "metadata": {},
   "outputs": [
    {
     "data": {
      "text/plain": [
       "(29, 3, 47.5, 59.004, 'aa', 'dal')"
      ]
     },
     "execution_count": 24,
     "metadata": {},
     "output_type": "execute_result"
    }
   ],
   "source": [
    "tuple2=(29,3,47.5,59.004,\"aa\",\"dal\")\n",
    "tuple2"
   ]
  },
  {
   "cell_type": "code",
   "execution_count": 25,
   "id": "180575c9",
   "metadata": {},
   "outputs": [
    {
     "data": {
      "text/plain": [
       "('l', 'a', 'l', 'i', 't')"
      ]
     },
     "execution_count": 25,
     "metadata": {},
     "output_type": "execute_result"
    }
   ],
   "source": [
    "tuple3=(\"l\",\"a\",\"l\",\"i\",\"t\")\n",
    "tuple3"
   ]
  },
  {
   "cell_type": "code",
   "execution_count": 26,
   "id": "5a095a68",
   "metadata": {},
   "outputs": [
    {
     "name": "stdout",
     "output_type": "stream",
     "text": [
      "<class 'tuple'>\n"
     ]
    }
   ],
   "source": [
    "print(type(tuple3))"
   ]
  },
  {
   "cell_type": "code",
   "execution_count": 27,
   "id": "aa49d395",
   "metadata": {},
   "outputs": [
    {
     "data": {
      "text/plain": [
       "tuple"
      ]
     },
     "execution_count": 27,
     "metadata": {},
     "output_type": "execute_result"
    }
   ],
   "source": [
    "type(tuple2)"
   ]
  },
  {
   "cell_type": "raw",
   "id": "4aafaf16",
   "metadata": {},
   "source": [
    "Q2. Given are some following variables containing data:\n",
    "(i) var1 = ‘ ‘\n",
    "(ii) var2 = ‘[ DS , ML , Python]’\n",
    "(iii) var3 = [ ‘DS’ , ’ML’ , ‘Python’ ]\n",
    "(iv) var4 = 1.\n",
    "What will be the data type of the above given variable."
   ]
  },
  {
   "cell_type": "markdown",
   "id": "24c50696",
   "metadata": {},
   "source": [
    "Data Types"
   ]
  },
  {
   "cell_type": "code",
   "execution_count": 28,
   "id": "739eaff0",
   "metadata": {},
   "outputs": [
    {
     "data": {
      "text/plain": [
       "str"
      ]
     },
     "execution_count": 28,
     "metadata": {},
     "output_type": "execute_result"
    }
   ],
   "source": [
    "var1=''\n",
    "type(var1)"
   ]
  },
  {
   "cell_type": "code",
   "execution_count": 29,
   "id": "a62accd2",
   "metadata": {},
   "outputs": [
    {
     "name": "stdout",
     "output_type": "stream",
     "text": [
      "[DS, ML, Pyhton]\n"
     ]
    },
    {
     "data": {
      "text/plain": [
       "str"
      ]
     },
     "execution_count": 29,
     "metadata": {},
     "output_type": "execute_result"
    }
   ],
   "source": [
    "var2=\"[DS, ML, Pyhton]\"\n",
    "print(var2)\n",
    "type(var2)"
   ]
  },
  {
   "cell_type": "code",
   "execution_count": 30,
   "id": "048f7c8e",
   "metadata": {},
   "outputs": [
    {
     "data": {
      "text/plain": [
       "list"
      ]
     },
     "execution_count": 30,
     "metadata": {},
     "output_type": "execute_result"
    }
   ],
   "source": [
    "var3=[\"DS\",\"Ml\",\"Python\"]\n",
    "type(var3)"
   ]
  },
  {
   "cell_type": "code",
   "execution_count": 31,
   "id": "ec1d5ec8",
   "metadata": {},
   "outputs": [
    {
     "data": {
      "text/plain": [
       "['DS', 'Ml', 'Python']"
      ]
     },
     "execution_count": 31,
     "metadata": {},
     "output_type": "execute_result"
    }
   ],
   "source": [
    "var3"
   ]
  },
  {
   "cell_type": "code",
   "execution_count": 32,
   "id": "4df09a4c",
   "metadata": {},
   "outputs": [
    {
     "data": {
      "text/plain": [
       "1"
      ]
     },
     "execution_count": 32,
     "metadata": {},
     "output_type": "execute_result"
    }
   ],
   "source": [
    "var4=1\n",
    "var4"
   ]
  },
  {
   "cell_type": "code",
   "execution_count": 33,
   "id": "0ccc1270",
   "metadata": {},
   "outputs": [
    {
     "data": {
      "text/plain": [
       "int"
      ]
     },
     "execution_count": 33,
     "metadata": {},
     "output_type": "execute_result"
    }
   ],
   "source": [
    "type(var4)"
   ]
  },
  {
   "cell_type": "raw",
   "id": "510285a0",
   "metadata": {},
   "source": [
    "Q3. Explain the use of the following operators using an example:\n",
    "(i) /\n",
    "(ii) %\n",
    "(iii) //\n",
    "(iv) **"
   ]
  },
  {
   "cell_type": "markdown",
   "id": "c0513272",
   "metadata": {},
   "source": [
    "Division operator  -----   /"
   ]
  },
  {
   "cell_type": "code",
   "execution_count": 34,
   "id": "0bc08449",
   "metadata": {},
   "outputs": [
    {
     "name": "stdout",
     "output_type": "stream",
     "text": [
      "Enter any number : 15\n",
      "Enter any number : 3\n",
      "the divided number is :  5.0\n",
      "<class 'float'>\n"
     ]
    }
   ],
   "source": [
    "a=int(input(\"Enter any number : \"))\n",
    "b=int(input(\"Enter any number : \"))\n",
    "c=a/b\n",
    "print(\"the divided number is : \",c)\n",
    "print(type(c))"
   ]
  },
  {
   "cell_type": "markdown",
   "id": "86641b20",
   "metadata": {},
   "source": [
    "Modulo operator -------  %"
   ]
  },
  {
   "cell_type": "code",
   "execution_count": 35,
   "id": "d17cb6f2",
   "metadata": {},
   "outputs": [
    {
     "name": "stdout",
     "output_type": "stream",
     "text": [
      "Enter any number : 12\n",
      "Enter any number : 3\n",
      "the remainder is :  0\n",
      "<class 'int'>\n"
     ]
    }
   ],
   "source": [
    "m1=int(input(\"Enter any number : \"))\n",
    "m2=int(input(\"Enter any number : \"))\n",
    "m1_m2=m1%m2\n",
    "print(\"the remainder is : \",m1_m2)\n",
    "print(type(m1_m2))"
   ]
  },
  {
   "cell_type": "markdown",
   "id": "06c17ab0",
   "metadata": {},
   "source": [
    "Floor Division operator ----- //"
   ]
  },
  {
   "cell_type": "code",
   "execution_count": 36,
   "id": "6474eeca",
   "metadata": {},
   "outputs": [
    {
     "name": "stdout",
     "output_type": "stream",
     "text": [
      "Enter any number : 184\n",
      "Enter any number : 8\n",
      "the floor divided number is :  23\n",
      "<class 'int'>\n"
     ]
    }
   ],
   "source": [
    "fd1=int(input(\"Enter any number : \"))\n",
    "fd2=int(input(\"Enter any number : \"))\n",
    "fd3=fd1//fd2\n",
    "print(\"the floor divided number is : \",fd3)\n",
    "print(type(fd3))"
   ]
  },
  {
   "cell_type": "markdown",
   "id": "9c856e5c",
   "metadata": {},
   "source": [
    "Power operator ------ **"
   ]
  },
  {
   "cell_type": "code",
   "execution_count": 37,
   "id": "9735a4b5",
   "metadata": {},
   "outputs": [
    {
     "name": "stdout",
     "output_type": "stream",
     "text": [
      "Enter any number : 5\n",
      "Square root of  5 is :  25\n"
     ]
    }
   ],
   "source": [
    "p1=int(input(\"Enter any number : \"))\n",
    "p=p1**2\n",
    "print(\"Square root of \",p1,\"is : \",p)"
   ]
  },
  {
   "cell_type": "code",
   "execution_count": 38,
   "id": "132cbf0b",
   "metadata": {},
   "outputs": [
    {
     "name": "stdout",
     "output_type": "stream",
     "text": [
      "Enter any number : 3\n",
      "cube root of  3 is :  27\n"
     ]
    }
   ],
   "source": [
    "p2=int(input(\"Enter any number : \"))\n",
    "p=p2**3\n",
    "print(\"cube root of \",p2,\"is : \",p)"
   ]
  },
  {
   "cell_type": "code",
   "execution_count": 39,
   "id": "c532e779",
   "metadata": {},
   "outputs": [
    {
     "name": "stdout",
     "output_type": "stream",
     "text": [
      "Enter number : 5\n",
      "Enter Power  : 3\n",
      "the number is: 125\n"
     ]
    }
   ],
   "source": [
    "a=int(input(\"Enter number : \"))\n",
    "b=int(input(\"Enter Power  : \"))\n",
    "c=a**b\n",
    "print(\"the number is:\",c)"
   ]
  },
  {
   "cell_type": "raw",
   "id": "49aec242",
   "metadata": {},
   "source": [
    "Q4. Create a list of length 10 of your choice containing multiple types of data. Using for loop print the\n",
    "element and its data type."
   ]
  },
  {
   "cell_type": "code",
   "execution_count": 40,
   "id": "03875000",
   "metadata": {},
   "outputs": [
    {
     "name": "stdout",
     "output_type": "stream",
     "text": [
      "<class 'int'> 10\n",
      "<class 'int'> 15\n",
      "<class 'float'> 5.6\n",
      "<class 'float'> 7.5\n",
      "<class 'str'> Goyal\n",
      "<class 'str'> Lalit\n",
      "<class 'bool'> True\n",
      "<class 'bool'> False\n",
      "<class 'complex'> (5+6j)\n",
      "<class 'complex'> (9+2j)\n",
      "Class and Element Successfully completed\n"
     ]
    }
   ],
   "source": [
    "list10=[10,15,5.6,7.5,\"Goyal\",\"Lalit\",True,False,5+6j,9+2j]\n",
    "for i in list10:\n",
    "    print(type(i),i)\n",
    "else:\n",
    "    print(\"Class and Element Successfully completed\")"
   ]
  },
  {
   "cell_type": "raw",
   "id": "7858a942",
   "metadata": {},
   "source": [
    "Q5. Using a while loop, verify if the number A is purely divisible by number B and if so then how many\n",
    "times it can be divisible."
   ]
  },
  {
   "cell_type": "code",
   "execution_count": 41,
   "id": "3e44cba4",
   "metadata": {},
   "outputs": [
    {
     "name": "stdout",
     "output_type": "stream",
     "text": [
      "Enter the dividend (A): 16\n",
      "Enter the divisor (B): 4\n",
      "1 is divisible by 4 and can be divided 2 times.\n"
     ]
    }
   ],
   "source": [
    "A = int(input(\"Enter the dividend (A): \"))\n",
    "B = int(input(\"Enter the divisor (B): \"))\n",
    "\n",
    "count = 0\n",
    "\n",
    "while A % B == 0:\n",
    "    A = A // B\n",
    "    count += 1\n",
    "\n",
    "if count > 0:\n",
    "    print(f\"{A} is divisible by {B} and can be divided {count} times.\")\n",
    "else:\n",
    "    print(f\"{A} is not divisible by {B}.\")"
   ]
  },
  {
   "cell_type": "raw",
   "id": "7103a731",
   "metadata": {},
   "source": [
    "Q6. Create a list containing 25 int type data. Using for loop and if-else condition print if the element is\n",
    "divisible by 3 or not."
   ]
  },
  {
   "cell_type": "code",
   "execution_count": 42,
   "id": "e1a456b6",
   "metadata": {},
   "outputs": [
    {
     "name": "stdout",
     "output_type": "stream",
     "text": [
      "it is not divisible : 1\n",
      "it is not divisible : 2\n",
      "it is divisible     : 3\n",
      "it is not divisible : 4\n",
      "it is not divisible : 5\n",
      "it is divisible     : 6\n",
      "it is not divisible : 7\n",
      "it is not divisible : 8\n",
      "it is divisible     : 9\n",
      "it is not divisible : 10\n",
      "it is not divisible : 11\n",
      "it is divisible     : 12\n",
      "it is not divisible : 13\n",
      "it is not divisible : 14\n",
      "it is divisible     : 15\n",
      "it is not divisible : 16\n",
      "it is not divisible : 17\n",
      "it is divisible     : 18\n",
      "it is not divisible : 19\n",
      "it is not divisible : 20\n",
      "it is divisible     : 21\n",
      "it is not divisible : 22\n",
      "it is not divisible : 23\n",
      "it is divisible     : 24\n",
      "it is not divisible : 25\n"
     ]
    }
   ],
   "source": [
    "list1=[1,2,3,4,5,6,7,8,9,10,11,12,13,14,15,16,17,18,19,20,21,22,23,24,25]\n",
    "for i in list1:\n",
    "    if(i%3)==0:\n",
    "        print(\"it is divisible     :\", i)\n",
    "    else:\n",
    "        print(\"it is not divisible :\", i)\n"
   ]
  },
  {
   "cell_type": "raw",
   "id": "5a58f2fe",
   "metadata": {},
   "source": [
    "Q7. What do you understand about mutable and immutable data types? Give examples for both showing\n",
    "this property."
   ]
  },
  {
   "cell_type": "markdown",
   "id": "cbdef70a",
   "metadata": {},
   "source": [
    "Mutable"
   ]
  },
  {
   "cell_type": "raw",
   "id": "8fc3a858",
   "metadata": {},
   "source": [
    "Mutable Object can be change after it is created"
   ]
  },
  {
   "cell_type": "code",
   "execution_count": 43,
   "id": "4d7b3eaa",
   "metadata": {
    "scrolled": true
   },
   "outputs": [
    {
     "data": {
      "text/plain": [
       "[25, 12, 28, 45.2, 29.8, 26.54762, 'Lalit', 'Goyal', True, False]"
      ]
     },
     "execution_count": 43,
     "metadata": {},
     "output_type": "execute_result"
    }
   ],
   "source": [
    "l1=[25,12,28,45.2,29.8,26.54762,\"Lalit\",\"Goyal\",True,False]\n",
    "l1"
   ]
  },
  {
   "cell_type": "code",
   "execution_count": 44,
   "id": "8c71b186",
   "metadata": {
    "scrolled": true
   },
   "outputs": [
    {
     "data": {
      "text/plain": [
       "'Goyal'"
      ]
     },
     "execution_count": 44,
     "metadata": {},
     "output_type": "execute_result"
    }
   ],
   "source": [
    "l1[7]"
   ]
  },
  {
   "cell_type": "code",
   "execution_count": 45,
   "id": "7aa2d7e2",
   "metadata": {},
   "outputs": [],
   "source": [
    "l1[7]=\"Agarwal\""
   ]
  },
  {
   "cell_type": "code",
   "execution_count": 46,
   "id": "6bf008c8",
   "metadata": {},
   "outputs": [
    {
     "data": {
      "text/plain": [
       "[25, 12, 28, 45.2, 29.8, 26.54762, 'Lalit', 'Agarwal', True, False]"
      ]
     },
     "execution_count": 46,
     "metadata": {},
     "output_type": "execute_result"
    }
   ],
   "source": [
    "l1"
   ]
  },
  {
   "cell_type": "code",
   "execution_count": 47,
   "id": "34c4a2ee",
   "metadata": {},
   "outputs": [],
   "source": [
    "l1[2]=18"
   ]
  },
  {
   "cell_type": "code",
   "execution_count": 48,
   "id": "75792005",
   "metadata": {},
   "outputs": [],
   "source": [
    "l1[4]=15.25468"
   ]
  },
  {
   "cell_type": "code",
   "execution_count": 49,
   "id": "7463cc83",
   "metadata": {
    "scrolled": true
   },
   "outputs": [
    {
     "data": {
      "text/plain": [
       "[25, 12, 18, 45.2, 15.25468, 26.54762, 'Lalit', 'Agarwal', True, False]"
      ]
     },
     "execution_count": 49,
     "metadata": {},
     "output_type": "execute_result"
    }
   ],
   "source": [
    "l1"
   ]
  },
  {
   "cell_type": "code",
   "execution_count": 50,
   "id": "f5bbd654",
   "metadata": {},
   "outputs": [],
   "source": [
    "l1.append(25)"
   ]
  },
  {
   "cell_type": "code",
   "execution_count": 51,
   "id": "ded36b6c",
   "metadata": {},
   "outputs": [],
   "source": [
    "l1.extend([24,6,23,24])"
   ]
  },
  {
   "cell_type": "code",
   "execution_count": 52,
   "id": "eace8ab9",
   "metadata": {},
   "outputs": [
    {
     "data": {
      "text/plain": [
       "[25,\n",
       " 12,\n",
       " 18,\n",
       " 45.2,\n",
       " 15.25468,\n",
       " 26.54762,\n",
       " 'Lalit',\n",
       " 'Agarwal',\n",
       " True,\n",
       " False,\n",
       " 25,\n",
       " 24,\n",
       " 6,\n",
       " 23,\n",
       " 24]"
      ]
     },
     "execution_count": 52,
     "metadata": {},
     "output_type": "execute_result"
    }
   ],
   "source": [
    "l1"
   ]
  },
  {
   "cell_type": "code",
   "execution_count": 53,
   "id": "c66095b8",
   "metadata": {},
   "outputs": [
    {
     "data": {
      "text/plain": [
       "15"
      ]
     },
     "execution_count": 53,
     "metadata": {},
     "output_type": "execute_result"
    }
   ],
   "source": [
    "len(l1)"
   ]
  },
  {
   "cell_type": "code",
   "execution_count": 54,
   "id": "75245128",
   "metadata": {},
   "outputs": [],
   "source": [
    "dict1={\"Name\":[\"Deepak\",\"Karan\",\"Lalit\"],\"Id\":[101,102,103],\"Age\":[26,27,28]}"
   ]
  },
  {
   "cell_type": "code",
   "execution_count": 55,
   "id": "de6c1bb8",
   "metadata": {},
   "outputs": [
    {
     "data": {
      "text/plain": [
       "{'Name': ['Deepak', 'Karan', 'Lalit'],\n",
       " 'Id': [101, 102, 103],\n",
       " 'Age': [26, 27, 28]}"
      ]
     },
     "execution_count": 55,
     "metadata": {},
     "output_type": "execute_result"
    }
   ],
   "source": [
    "dict1"
   ]
  },
  {
   "cell_type": "code",
   "execution_count": 56,
   "id": "db34154c",
   "metadata": {},
   "outputs": [],
   "source": [
    "dict1[\"Work\"]=[\"Business\",\"JOB\",\"JOB\"]"
   ]
  },
  {
   "cell_type": "code",
   "execution_count": 57,
   "id": "d3bd2310",
   "metadata": {},
   "outputs": [
    {
     "data": {
      "text/plain": [
       "{'Name': ['Deepak', 'Karan', 'Lalit'],\n",
       " 'Id': [101, 102, 103],\n",
       " 'Age': [26, 27, 28],\n",
       " 'Work': ['Business', 'JOB', 'JOB']}"
      ]
     },
     "execution_count": 57,
     "metadata": {},
     "output_type": "execute_result"
    }
   ],
   "source": [
    "dict1"
   ]
  },
  {
   "cell_type": "markdown",
   "id": "8a5324de",
   "metadata": {},
   "source": [
    "Immutable objects"
   ]
  },
  {
   "cell_type": "raw",
   "id": "4336ec52",
   "metadata": {},
   "source": [
    "Immutable object cannot be changed after it is created"
   ]
  },
  {
   "cell_type": "code",
   "execution_count": 58,
   "id": "5cdf93d2",
   "metadata": {},
   "outputs": [
    {
     "data": {
      "text/plain": [
       "'this is my fist assignment '"
      ]
     },
     "execution_count": 58,
     "metadata": {},
     "output_type": "execute_result"
    }
   ],
   "source": [
    "name=\"this is my fist assignment \"\n",
    "name"
   ]
  },
  {
   "cell_type": "code",
   "execution_count": 59,
   "id": "63d2d132",
   "metadata": {},
   "outputs": [
    {
     "data": {
      "text/plain": [
       "'i'"
      ]
     },
     "execution_count": 59,
     "metadata": {},
     "output_type": "execute_result"
    }
   ],
   "source": [
    "name[5]"
   ]
  },
  {
   "cell_type": "code",
   "execution_count": 60,
   "id": "5fc60025",
   "metadata": {},
   "outputs": [
    {
     "data": {
      "text/plain": [
       "'this is '"
      ]
     },
     "execution_count": 60,
     "metadata": {},
     "output_type": "execute_result"
    }
   ],
   "source": [
    "name[:8]"
   ]
  },
  {
   "cell_type": "code",
   "execution_count": 61,
   "id": "b8629d9d",
   "metadata": {
    "scrolled": true
   },
   "outputs": [
    {
     "ename": "TypeError",
     "evalue": "'str' object does not support item assignment",
     "output_type": "error",
     "traceback": [
      "\u001b[1;31m---------------------------------------------------------------------------\u001b[0m",
      "\u001b[1;31mTypeError\u001b[0m                                 Traceback (most recent call last)",
      "Input \u001b[1;32mIn [61]\u001b[0m, in \u001b[0;36m<cell line: 1>\u001b[1;34m()\u001b[0m\n\u001b[1;32m----> 1\u001b[0m name[\u001b[38;5;241m5\u001b[39m:\u001b[38;5;241m8\u001b[39m]\u001b[38;5;241m=\u001b[39m\u001b[38;5;124m'\u001b[39m\u001b[38;5;124mis not\u001b[39m\u001b[38;5;124m'\u001b[39m\n",
      "\u001b[1;31mTypeError\u001b[0m: 'str' object does not support item assignment"
     ]
    }
   ],
   "source": [
    "name[5:8]='is not'"
   ]
  },
  {
   "cell_type": "markdown",
   "id": "f060c718",
   "metadata": {},
   "source": [
    "### TypeError: 'str' object does not support item assignment"
   ]
  },
  {
   "cell_type": "code",
   "execution_count": 62,
   "id": "8940a29f",
   "metadata": {},
   "outputs": [],
   "source": [
    "tup1=(1,2,3,4,5,\"Babita\",\"Goyal\",45.21,52.78,62.74,True)"
   ]
  },
  {
   "cell_type": "code",
   "execution_count": 63,
   "id": "9a171a93",
   "metadata": {},
   "outputs": [
    {
     "data": {
      "text/plain": [
       "(1, 2, 3, 4, 5, 'Babita', 'Goyal', 45.21, 52.78, 62.74, True)"
      ]
     },
     "execution_count": 63,
     "metadata": {},
     "output_type": "execute_result"
    }
   ],
   "source": [
    "tup1"
   ]
  },
  {
   "cell_type": "code",
   "execution_count": 64,
   "id": "cc75b14c",
   "metadata": {},
   "outputs": [
    {
     "data": {
      "text/plain": [
       "'Babita'"
      ]
     },
     "execution_count": 64,
     "metadata": {},
     "output_type": "execute_result"
    }
   ],
   "source": [
    "tup1[5]"
   ]
  },
  {
   "cell_type": "code",
   "execution_count": 65,
   "id": "2ad06ba5",
   "metadata": {},
   "outputs": [
    {
     "ename": "TypeError",
     "evalue": "'tuple' object does not support item assignment",
     "output_type": "error",
     "traceback": [
      "\u001b[1;31m---------------------------------------------------------------------------\u001b[0m",
      "\u001b[1;31mTypeError\u001b[0m                                 Traceback (most recent call last)",
      "Input \u001b[1;32mIn [65]\u001b[0m, in \u001b[0;36m<cell line: 1>\u001b[1;34m()\u001b[0m\n\u001b[1;32m----> 1\u001b[0m tup1[\u001b[38;5;241m3\u001b[39m]\u001b[38;5;241m=\u001b[39m\u001b[38;5;241m1\u001b[39m\n",
      "\u001b[1;31mTypeError\u001b[0m: 'tuple' object does not support item assignment"
     ]
    }
   ],
   "source": [
    "tup1[3]=1"
   ]
  },
  {
   "cell_type": "markdown",
   "id": "74d311d3",
   "metadata": {},
   "source": [
    "### TypeError: 'tuple' object does not support item assignment"
   ]
  }
 ],
 "metadata": {
  "kernelspec": {
   "display_name": "Python 3 (ipykernel)",
   "language": "python",
   "name": "python3"
  },
  "language_info": {
   "codemirror_mode": {
    "name": "ipython",
    "version": 3
   },
   "file_extension": ".py",
   "mimetype": "text/x-python",
   "name": "python",
   "nbconvert_exporter": "python",
   "pygments_lexer": "ipython3",
   "version": "3.9.12"
  }
 },
 "nbformat": 4,
 "nbformat_minor": 5
}
