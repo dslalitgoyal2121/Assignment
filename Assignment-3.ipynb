{
 "cells": [
  {
   "cell_type": "markdown",
   "id": "b09ebdb1",
   "metadata": {},
   "source": [
    "# Assignment-3"
   ]
  },
  {
   "cell_type": "raw",
   "id": "60935d10",
   "metadata": {},
   "source": [
    "Q1. Which keyword is used to create a function? Create a function to return a list of odd numbers in the range of 1 to 25."
   ]
  },
  {
   "cell_type": "markdown",
   "id": "05b40b4a",
   "metadata": {},
   "source": [
    "The def keyword is used to create, (or define) a function."
   ]
  },
  {
   "cell_type": "code",
   "execution_count": 1,
   "id": "2a32f238",
   "metadata": {},
   "outputs": [],
   "source": [
    "def odd_number(a,b):\n",
    "    for i in range(a,b):\n",
    "        if i%2 != 0:\n",
    "            print(i)"
   ]
  },
  {
   "cell_type": "code",
   "execution_count": 2,
   "id": "8469030c",
   "metadata": {},
   "outputs": [
    {
     "name": "stdout",
     "output_type": "stream",
     "text": [
      "1\n",
      "3\n",
      "5\n",
      "7\n",
      "9\n",
      "11\n",
      "13\n",
      "15\n",
      "17\n",
      "19\n",
      "21\n",
      "23\n"
     ]
    }
   ],
   "source": [
    "odd_number(1,25)"
   ]
  },
  {
   "cell_type": "code",
   "execution_count": 3,
   "id": "67419e01",
   "metadata": {},
   "outputs": [],
   "source": [
    "def odd_num(a,b):\n",
    "    odd1=[]\n",
    "    for i in range(a,b):\n",
    "        if i % 2 != 0:\n",
    "            odd1.append(i)\n",
    "    return odd1\n",
    "    "
   ]
  },
  {
   "cell_type": "code",
   "execution_count": 4,
   "id": "a240fa7a",
   "metadata": {},
   "outputs": [
    {
     "data": {
      "text/plain": [
       "[1, 3, 5, 7, 9, 11, 13, 15, 17, 19, 21, 23]"
      ]
     },
     "execution_count": 4,
     "metadata": {},
     "output_type": "execute_result"
    }
   ],
   "source": [
    "odd_num(1,25)"
   ]
  },
  {
   "cell_type": "raw",
   "id": "35415559",
   "metadata": {},
   "source": [
    "Q2. Why *args and **kwargs is used in some functions? Create a function each for *args and **kwargs\n",
    "to demonstrate their use."
   ]
  },
  {
   "cell_type": "raw",
   "id": "b77d4483",
   "metadata": {},
   "source": [
    "*args: *(strick) is n number of argument you can pass in side a functions and it is hold in tupals"
   ]
  },
  {
   "cell_type": "code",
   "execution_count": 5,
   "id": "6dd2f6f4",
   "metadata": {},
   "outputs": [],
   "source": [
    "def test1(*args):\n",
    "    return args"
   ]
  },
  {
   "cell_type": "code",
   "execution_count": 6,
   "id": "a85c1c3a",
   "metadata": {},
   "outputs": [
    {
     "data": {
      "text/plain": [
       "tuple"
      ]
     },
     "execution_count": 6,
     "metadata": {},
     "output_type": "execute_result"
    }
   ],
   "source": [
    "type(test1())"
   ]
  },
  {
   "cell_type": "code",
   "execution_count": 7,
   "id": "3a081728",
   "metadata": {},
   "outputs": [
    {
     "data": {
      "text/plain": [
       "(1, 2, 3, 4, 5)"
      ]
     },
     "execution_count": 7,
     "metadata": {},
     "output_type": "execute_result"
    }
   ],
   "source": [
    "test1(1,2,3,4,5)"
   ]
  },
  {
   "cell_type": "code",
   "execution_count": 8,
   "id": "52923a92",
   "metadata": {},
   "outputs": [
    {
     "data": {
      "text/plain": [
       "(7, 8, 9, 4, 'Lalit', 'Goyal', [12.5, 32.1, 0.11, 0.25, 0.45, 0.325, 451])"
      ]
     },
     "execution_count": 8,
     "metadata": {},
     "output_type": "execute_result"
    }
   ],
   "source": [
    "test1(7,8,9,4,\"Lalit\",\"Goyal\",[12.5,32.1,.11,.25,.45,.325,451])"
   ]
  },
  {
   "cell_type": "raw",
   "id": "c05abd7a",
   "metadata": {},
   "source": [
    "**kwargs allows us to pass a variable number of keyword arguments to a Python function. In the function, we use the double-asterisk ( ** ) before the parameter name to denote this type of argument."
   ]
  },
  {
   "cell_type": "code",
   "execution_count": 9,
   "id": "9d1f52f7",
   "metadata": {},
   "outputs": [],
   "source": [
    "def test2(**kwargs):\n",
    "    return kwargs"
   ]
  },
  {
   "cell_type": "code",
   "execution_count": 10,
   "id": "ed4c82af",
   "metadata": {},
   "outputs": [
    {
     "data": {
      "text/plain": [
       "dict"
      ]
     },
     "execution_count": 10,
     "metadata": {},
     "output_type": "execute_result"
    }
   ],
   "source": [
    "type(test2())"
   ]
  },
  {
   "cell_type": "code",
   "execution_count": 11,
   "id": "0fa5b19c",
   "metadata": {},
   "outputs": [
    {
     "data": {
      "text/plain": [
       "{'Number': [1, 2, 3, 4], 'Name': 'lalit', 'Salary': 45.13, 'job': True}"
      ]
     },
     "execution_count": 11,
     "metadata": {},
     "output_type": "execute_result"
    }
   ],
   "source": [
    "test2(Number=[1,2,3,4],Name=\"lalit\",Salary=45.13,job=True)"
   ]
  },
  {
   "cell_type": "code",
   "execution_count": 12,
   "id": "5e219003",
   "metadata": {},
   "outputs": [
    {
     "name": "stdout",
     "output_type": "stream",
     "text": [
      "Name : Lalit Goyal\n",
      "Age : 28\n",
      "Mobile Number : 9413066330\n",
      "Class : Data Science \n"
     ]
    },
    {
     "data": {
      "text/plain": [
       "{'Name': 'Lalit Goyal',\n",
       " 'Age': 28,\n",
       " 'Number': 9413066330,\n",
       " 'Class': 'Data Science '}"
      ]
     },
     "execution_count": 12,
     "metadata": {},
     "output_type": "execute_result"
    }
   ],
   "source": [
    "test2(Name=str(input(\"Name : \")),Age=int(input(\"Age : \")),Number=int(input(\"Mobile Number : \")),Class=str(input(\"Class : \")))"
   ]
  },
  {
   "cell_type": "raw",
   "id": "de4c6b8c",
   "metadata": {},
   "source": [
    "Q3. What is an iterator in python? Name the method used to initialise the iterator object and the method used for iteration. Use these methods to print the first five elements of the given list \n",
    "[2, 4, 6, 8, 10, 12, 14, 16, 18, 20]."
   ]
  },
  {
   "cell_type": "raw",
   "id": "0e9c4549",
   "metadata": {},
   "source": [
    "In Python, an iterator is an object that implements the iterator protocol, which consists of two methods: __iter__() and __next__().\n",
    "\n",
    "__iter__() method: This method initializes and returns the iterator object itself. It is called when an iterator object is created and is responsible for returning the iterator object.\n",
    "\n",
    "__next__() method: This method is called to fetch the next element from the iterator. It returns the next element in the sequence and raises the StopIteration exception when there are no more elements to be retrieved."
   ]
  },
  {
   "cell_type": "code",
   "execution_count": 13,
   "id": "e6205e3b",
   "metadata": {},
   "outputs": [
    {
     "name": "stdout",
     "output_type": "stream",
     "text": [
      "2\n",
      "4\n",
      "6\n",
      "8\n",
      "10\n"
     ]
    }
   ],
   "source": [
    "my_list = [2, 4, 6, 8, 10, 12, 14, 16, 18, 20]\n",
    "\n",
    "# Create an iterator object\n",
    "my_iter = iter(my_list)\n",
    "\n",
    "# Print the first five elements using the iterator\n",
    "for _ in range(5):\n",
    "    element = next(my_iter)\n",
    "    print(element)\n",
    "\n"
   ]
  },
  {
   "cell_type": "raw",
   "id": "18bb6c7b",
   "metadata": {},
   "source": [
    "Q4. What is a generator function in python? Why yield keyword is used? Give an example of a generator\n",
    "function."
   ]
  },
  {
   "cell_type": "raw",
   "id": "5d53bf94",
   "metadata": {},
   "source": [
    "A Python generator function allows you to declare a function that behaves like an iterator, providing a faster and easier way to create iterators. They can be used on an abstract container of data to turn it into an iterable object like lists, dictionaries and strings.\n",
    "\n",
    "In simpler words, the yield keyword will convert an expression that is specified along with it to a generator object and return it to the caller. Hence, if you want to get the values stored inside the generator object, you need to iterate over it. It will not destroy the local variables' states."
   ]
  },
  {
   "cell_type": "code",
   "execution_count": 14,
   "id": "f9aa8476",
   "metadata": {},
   "outputs": [],
   "source": [
    "def generator(n):\n",
    "    count=1\n",
    "    for i in range(n):\n",
    "        yield count\n",
    "        count= count+1"
   ]
  },
  {
   "cell_type": "code",
   "execution_count": 15,
   "id": "d221efe4",
   "metadata": {},
   "outputs": [
    {
     "data": {
      "text/plain": [
       "generator"
      ]
     },
     "execution_count": 15,
     "metadata": {},
     "output_type": "execute_result"
    }
   ],
   "source": [
    "type(generator(5))"
   ]
  },
  {
   "cell_type": "code",
   "execution_count": 16,
   "id": "a51ea1bb",
   "metadata": {},
   "outputs": [
    {
     "name": "stdout",
     "output_type": "stream",
     "text": [
      "1\n",
      "2\n",
      "3\n",
      "4\n",
      "5\n"
     ]
    }
   ],
   "source": [
    "for i in generator(5):\n",
    "    print(i)"
   ]
  },
  {
   "cell_type": "code",
   "execution_count": 17,
   "id": "557cb773",
   "metadata": {
    "scrolled": true
   },
   "outputs": [],
   "source": [
    "def generator1(n):\n",
    "    even=[]\n",
    "    odd=[]\n",
    "    sqr=1\n",
    "    for i in range(n):\n",
    "        if i % 2 == 0:       \n",
    "            even.append(i)\n",
    "            sqr=sqr**2\n",
    "        else:\n",
    "            if i% 2 != 0:\n",
    "                odd.append(i)\n",
    "                sqr=sqr**2\n",
    "    yield f\"Even Square root :{even} \"\n",
    "    yield f\"Odd Square root :{odd}\""
   ]
  },
  {
   "cell_type": "code",
   "execution_count": 18,
   "id": "a387b349",
   "metadata": {},
   "outputs": [
    {
     "name": "stdout",
     "output_type": "stream",
     "text": [
      "Even Square root :[0, 2, 4, 6, 8] \n",
      "Odd Square root :[1, 3, 5, 7, 9]\n"
     ]
    }
   ],
   "source": [
    "for i in generator1(10):\n",
    "    print(i)"
   ]
  },
  {
   "cell_type": "code",
   "execution_count": 19,
   "id": "de64d48b",
   "metadata": {},
   "outputs": [
    {
     "data": {
      "text/plain": [
       "generator"
      ]
     },
     "execution_count": 19,
     "metadata": {},
     "output_type": "execute_result"
    }
   ],
   "source": [
    "type(generator1(20))"
   ]
  },
  {
   "cell_type": "raw",
   "id": "3defe6b7",
   "metadata": {},
   "source": [
    "Q5. Create a generator function for prime numbers less than 1000. Use the next() method to print the\n",
    "first 20 prime numbers."
   ]
  },
  {
   "cell_type": "code",
   "execution_count": 20,
   "id": "7d77d028",
   "metadata": {},
   "outputs": [],
   "source": [
    "def prime_generator():\n",
    "    yield 2  # 2 is the first prime number\n",
    "    primes = [2]  # List to store prime numbers\n",
    "    num = 3  # Start checking from 3\n",
    "    while num < 1000:\n",
    "        is_prime = True\n",
    "        for prime in primes:\n",
    "            if num % prime == 0:\n",
    "                is_prime = False\n",
    "                break\n",
    "        if is_prime:\n",
    "            yield num\n",
    "            primes.append(num)\n",
    "        num += 2  # Increment by 2 to skip even numbers"
   ]
  },
  {
   "cell_type": "code",
   "execution_count": 21,
   "id": "d39f0024",
   "metadata": {},
   "outputs": [],
   "source": [
    "# Create a generator object\n",
    "prime_gen = prime_generator()"
   ]
  },
  {
   "cell_type": "code",
   "execution_count": 22,
   "id": "64aad462",
   "metadata": {},
   "outputs": [
    {
     "name": "stdout",
     "output_type": "stream",
     "text": [
      "2\n",
      "3\n",
      "5\n",
      "7\n",
      "11\n",
      "13\n",
      "17\n",
      "19\n",
      "23\n",
      "29\n",
      "31\n",
      "37\n",
      "41\n",
      "43\n",
      "47\n",
      "53\n",
      "59\n",
      "61\n",
      "67\n",
      "71\n"
     ]
    }
   ],
   "source": [
    "# Print the first 20 prime numbers\n",
    "for _ in range(20):\n",
    "    print(next(prime_gen))"
   ]
  },
  {
   "cell_type": "raw",
   "id": "cbf0e0e1",
   "metadata": {},
   "source": [
    "Q6. Write a python program to print the first 10 Fibonacci numbers using a while loop."
   ]
  },
  {
   "cell_type": "code",
   "execution_count": 23,
   "id": "d42c98c7",
   "metadata": {},
   "outputs": [],
   "source": [
    "def fib_num():\n",
    "    a,b=0,1\n",
    "    while True:\n",
    "        yield a\n",
    "        a,b=b,a+b"
   ]
  },
  {
   "cell_type": "code",
   "execution_count": 24,
   "id": "677e5a3f",
   "metadata": {},
   "outputs": [],
   "source": [
    "fib=fib_num()"
   ]
  },
  {
   "cell_type": "code",
   "execution_count": 25,
   "id": "f83a2a68",
   "metadata": {},
   "outputs": [
    {
     "name": "stdout",
     "output_type": "stream",
     "text": [
      "0\n",
      "1\n",
      "1\n",
      "2\n",
      "3\n",
      "5\n",
      "8\n",
      "13\n",
      "21\n",
      "34\n"
     ]
    }
   ],
   "source": [
    "for i in range(10):\n",
    "    print(next(fib))"
   ]
  },
  {
   "cell_type": "raw",
   "id": "315c7a59",
   "metadata": {},
   "source": [
    "Q7. Write a List Comprehension to iterate through the given string: ‘pwskills’.\n",
    "Expected output: ['p', 'w', 's', 'k', 'i', 'l', 'l', 's']"
   ]
  },
  {
   "cell_type": "code",
   "execution_count": 26,
   "id": "cff56640",
   "metadata": {},
   "outputs": [],
   "source": [
    "string=\"pwslills\"\n",
    "str_list=[]\n",
    "for i in string:\n",
    "    str_list.append(i)"
   ]
  },
  {
   "cell_type": "code",
   "execution_count": 27,
   "id": "81e0fe9b",
   "metadata": {},
   "outputs": [
    {
     "data": {
      "text/plain": [
       "['p', 'w', 's', 'l', 'i', 'l', 'l', 's']"
      ]
     },
     "execution_count": 27,
     "metadata": {},
     "output_type": "execute_result"
    }
   ],
   "source": [
    "str_list"
   ]
  },
  {
   "cell_type": "raw",
   "id": "fdddfbfa",
   "metadata": {},
   "source": [
    "Q8. Write a python program to check whether a given number is Palindrome or not using a while loop."
   ]
  },
  {
   "cell_type": "code",
   "execution_count": 28,
   "id": "7a96c0ec",
   "metadata": {},
   "outputs": [
    {
     "name": "stdout",
     "output_type": "stream",
     "text": [
      "Enter any number:15\n",
      "Not a palindrome!\n"
     ]
    }
   ],
   "source": [
    "num=int(input(\"Enter any number:\"))\n",
    "temp=num\n",
    "rev=0\n",
    "while(num>0):\n",
    "    dig=num%10\n",
    "    rev=rev*10+dig\n",
    "    num=num//10\n",
    "if(temp==rev):\n",
    "    print(\"The {0} number is palindrome!\".format(temp))\n",
    "else:\n",
    "    print(\"Not a palindrome!\")"
   ]
  },
  {
   "cell_type": "code",
   "execution_count": 29,
   "id": "b4c67b4d",
   "metadata": {},
   "outputs": [],
   "source": [
    "def is_palindrome():\n",
    "    num=int(input(\"Enter any number:\"))\n",
    "    temp=num\n",
    "    rev=0\n",
    "    while(num>0):\n",
    "        dig=num%10\n",
    "        rev=rev*10+dig\n",
    "        num=num//10\n",
    "    if(temp==rev):\n",
    "        print(\"The {0} number is palindrome!\".format(temp))\n",
    "    else:\n",
    "        print(\"Not a palindrome!\")"
   ]
  },
  {
   "cell_type": "code",
   "execution_count": 30,
   "id": "5529de0c",
   "metadata": {},
   "outputs": [
    {
     "name": "stdout",
     "output_type": "stream",
     "text": [
      "Enter any number:18\n",
      "Not a palindrome!\n"
     ]
    }
   ],
   "source": [
    "is_palindrome()"
   ]
  },
  {
   "cell_type": "raw",
   "id": "f12f8cef",
   "metadata": {},
   "source": [
    "Q9. Write a code to print odd numbers from 1 to 100 using list comprehension.\n",
    "Note: Use a list comprehension to create a list from 1 to 100 and use another List comprehension to filter out odd numbers."
   ]
  },
  {
   "cell_type": "code",
   "execution_count": 31,
   "id": "bde82846",
   "metadata": {},
   "outputs": [],
   "source": [
    "odd=[odd1 for odd1 in range(1,100) if odd1%2 != 0 ]"
   ]
  },
  {
   "cell_type": "code",
   "execution_count": 32,
   "id": "4d68a880",
   "metadata": {},
   "outputs": [
    {
     "data": {
      "text/plain": [
       "list"
      ]
     },
     "execution_count": 32,
     "metadata": {},
     "output_type": "execute_result"
    }
   ],
   "source": [
    "type(odd)"
   ]
  },
  {
   "cell_type": "code",
   "execution_count": 33,
   "id": "cbb27c41",
   "metadata": {},
   "outputs": [
    {
     "data": {
      "text/plain": [
       "[1,\n",
       " 3,\n",
       " 5,\n",
       " 7,\n",
       " 9,\n",
       " 11,\n",
       " 13,\n",
       " 15,\n",
       " 17,\n",
       " 19,\n",
       " 21,\n",
       " 23,\n",
       " 25,\n",
       " 27,\n",
       " 29,\n",
       " 31,\n",
       " 33,\n",
       " 35,\n",
       " 37,\n",
       " 39,\n",
       " 41,\n",
       " 43,\n",
       " 45,\n",
       " 47,\n",
       " 49,\n",
       " 51,\n",
       " 53,\n",
       " 55,\n",
       " 57,\n",
       " 59,\n",
       " 61,\n",
       " 63,\n",
       " 65,\n",
       " 67,\n",
       " 69,\n",
       " 71,\n",
       " 73,\n",
       " 75,\n",
       " 77,\n",
       " 79,\n",
       " 81,\n",
       " 83,\n",
       " 85,\n",
       " 87,\n",
       " 89,\n",
       " 91,\n",
       " 93,\n",
       " 95,\n",
       " 97,\n",
       " 99]"
      ]
     },
     "execution_count": 33,
     "metadata": {},
     "output_type": "execute_result"
    }
   ],
   "source": [
    "odd"
   ]
  },
  {
   "cell_type": "code",
   "execution_count": null,
   "id": "782c4aec",
   "metadata": {},
   "outputs": [],
   "source": []
  }
 ],
 "metadata": {
  "kernelspec": {
   "display_name": "Python 3 (ipykernel)",
   "language": "python",
   "name": "python3"
  },
  "language_info": {
   "codemirror_mode": {
    "name": "ipython",
    "version": 3
   },
   "file_extension": ".py",
   "mimetype": "text/x-python",
   "name": "python",
   "nbconvert_exporter": "python",
   "pygments_lexer": "ipython3",
   "version": "3.9.12"
  }
 },
 "nbformat": 4,
 "nbformat_minor": 5
}
