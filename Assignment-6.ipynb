{
 "cells": [
  {
   "cell_type": "markdown",
   "id": "5be86306",
   "metadata": {},
   "source": [
    "# Assignment-6"
   ]
  },
  {
   "cell_type": "raw",
   "id": "a004ce00",
   "metadata": {},
   "source": [
    "Q1. Explain Class and Object with respect to Object-Oriented Programming. Give a suitable example."
   ]
  },
  {
   "cell_type": "raw",
   "id": "f9537b4f",
   "metadata": {},
   "source": [
    "Class − A class can be defined as a template/blueprint that describes the behavior/state that the object of its type support."
   ]
  },
  {
   "cell_type": "raw",
   "id": "15c3000b",
   "metadata": {},
   "source": [
    "Object − Objects have states and behaviors.\n",
    "Example: A dog has \n",
    "states - color, name, breed as well as \n",
    "behaviors – wagging the tail, barking, eating. An object is an instance of a class."
   ]
  },
  {
   "cell_type": "code",
   "execution_count": 1,
   "id": "1ca7de38",
   "metadata": {},
   "outputs": [],
   "source": [
    "class dog:\n",
    "    def dog_states(self, color,name,breed):\n",
    "        self.color=color\n",
    "        self.name=name\n",
    "        self.breed=breed\n",
    "    def dog_detals(self):\n",
    "        return self.color,self.name,self.breed"
   ]
  },
  {
   "cell_type": "code",
   "execution_count": 2,
   "id": "c3ec0486",
   "metadata": {},
   "outputs": [],
   "source": [
    "dog1=dog()"
   ]
  },
  {
   "cell_type": "code",
   "execution_count": 3,
   "id": "57a47f05",
   "metadata": {},
   "outputs": [],
   "source": [
    "dog1.dog_states(\"black\",\"mammal\",\"pmelian\")"
   ]
  },
  {
   "cell_type": "code",
   "execution_count": 4,
   "id": "67793226",
   "metadata": {},
   "outputs": [
    {
     "data": {
      "text/plain": [
       "('black', 'mammal', 'pmelian')"
      ]
     },
     "execution_count": 4,
     "metadata": {},
     "output_type": "execute_result"
    }
   ],
   "source": [
    "dog1.dog_detals()"
   ]
  },
  {
   "cell_type": "raw",
   "id": "7ec40325",
   "metadata": {},
   "source": [
    "Q2. Name the four pillars of OOPs."
   ]
  },
  {
   "cell_type": "raw",
   "id": "63bd7dcd",
   "metadata": {},
   "source": [
    "1 - Inheritance\n",
    "2 - Polymorphism \n",
    "3 - Encapsulation\n",
    "4 - Abstraction"
   ]
  },
  {
   "cell_type": "raw",
   "id": "05753c03",
   "metadata": {},
   "source": [
    "Q3. Explain why the __init__() function is used. Give a suitable example."
   ]
  },
  {
   "cell_type": "raw",
   "id": "a14c516f",
   "metadata": {},
   "source": [
    "The python __init__ method is declared within a class and is used to initialize the attributes of an object as soon as the object is formed. While giving the definition for an __init__(self) method, a default parameter, named 'self' is always passed in its argument. This self represents the object of the class itself."
   ]
  },
  {
   "cell_type": "code",
   "execution_count": 5,
   "id": "bf548d00",
   "metadata": {},
   "outputs": [],
   "source": [
    "class pwskills:\n",
    "    def __init__(self,phone_number, email_id,student_id):\n",
    "        self.phone_number=phone_number\n",
    "        self.email_id=email_id\n",
    "        self.student_id=student_id\n",
    "    def return_stuent_deetials(self):\n",
    "        return self.student_id,self.phone_number,self.email_id"
   ]
  },
  {
   "cell_type": "code",
   "execution_count": 6,
   "id": "30e00882",
   "metadata": {},
   "outputs": [],
   "source": [
    "stud1=pwskills(9413066330,\"lalitgoyal0021@gmail.com\",\"S01\")"
   ]
  },
  {
   "cell_type": "code",
   "execution_count": 7,
   "id": "25aa9a15",
   "metadata": {},
   "outputs": [
    {
     "data": {
      "text/plain": [
       "('S01', 9413066330, 'lalitgoyal0021@gmail.com')"
      ]
     },
     "execution_count": 7,
     "metadata": {},
     "output_type": "execute_result"
    }
   ],
   "source": [
    "stud1.return_stuent_deetials()"
   ]
  },
  {
   "cell_type": "raw",
   "id": "0dceef27",
   "metadata": {},
   "source": [
    "Q4. Why self is used in OOPs?"
   ]
  },
  {
   "cell_type": "raw",
   "id": "2a799433",
   "metadata": {},
   "source": [
    "self represents the instance of the class. By using the “self” we can access the attributes and methods of the class in python. It binds the attributes with the given arguments. The reason you need to use self. is because Python does not use the @ syntax to refer to instance attributes."
   ]
  },
  {
   "cell_type": "raw",
   "id": "bce75aff",
   "metadata": {},
   "source": [
    "Q5. What is inheritance? Give an example for each type of inheritance."
   ]
  },
  {
   "cell_type": "raw",
   "id": "3252ee23",
   "metadata": {},
   "source": [
    "Inheritance relationship defines the classes that inherit from other classes as derived, subclass, or sub-type classes. Base class remains to be the source from which a subclass inherits. For example, you have a Base class of “Animal,” and a “Lion” is a Derived class. The inheritance will be Lion is an Animal.\n",
    "* Single Inheritance.\n",
    "* Multiple Inheritance.\n",
    "* Multilevel Inheritance."
   ]
  },
  {
   "cell_type": "code",
   "execution_count": 8,
   "id": "fd0a5850",
   "metadata": {},
   "outputs": [
    {
     "data": {
      "text/plain": [
       "'this is my first class'"
      ]
     },
     "execution_count": 8,
     "metadata": {},
     "output_type": "execute_result"
    }
   ],
   "source": [
    "class test:\n",
    "    def test_meth(self):\n",
    "        return \"this is my first class\"\n",
    "    \n",
    "class child_test(test):\n",
    "    pass\n",
    "\n",
    "child_test= child_test()\n",
    "child_test.test_meth()"
   ]
  },
  {
   "cell_type": "code",
   "execution_count": null,
   "id": "bd8b4761",
   "metadata": {},
   "outputs": [],
   "source": []
  }
 ],
 "metadata": {
  "kernelspec": {
   "display_name": "Python 3 (ipykernel)",
   "language": "python",
   "name": "python3"
  },
  "language_info": {
   "codemirror_mode": {
    "name": "ipython",
    "version": 3
   },
   "file_extension": ".py",
   "mimetype": "text/x-python",
   "name": "python",
   "nbconvert_exporter": "python",
   "pygments_lexer": "ipython3",
   "version": "3.9.12"
  }
 },
 "nbformat": 4,
 "nbformat_minor": 5
}
